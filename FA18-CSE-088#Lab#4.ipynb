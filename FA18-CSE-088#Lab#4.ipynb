{
 "cells": [
  {
   "cell_type": "code",
   "execution_count": 1,
   "id": "704c7ded",
   "metadata": {},
   "outputs": [],
   "source": [
    "import pandas as pd\n",
    "import numpy as np\n",
    "from sklearn.feature_selection import SelectKBest\n",
    "from sklearn.feature_selection import chi2\n"
   ]
  },
  {
   "cell_type": "code",
   "execution_count": 2,
   "id": "5df3d7eb",
   "metadata": {},
   "outputs": [],
   "source": [
    "data = pd.read_csv(\"zillow.csv\") # write few words baout data used\n",
    "X = data.iloc[:,0:20] #independent columns\n",
    "y = data.iloc[:,-1] #pick last column for the target feature\n",
    "#apply SelectKBest class to extract top 5 best features\n",
    "bestfeatures = SelectKBest(score_func=chi2, k=5)\n",
    "fit = bestfeatures.fit(X,y)\n",
    "dfscores = pd.DataFrame(fit.scores_) "
   ]
  },
  {
   "cell_type": "code",
   "execution_count": 3,
   "id": "f23f5949",
   "metadata": {},
   "outputs": [
    {
     "name": "stdout",
     "output_type": "stream",
     "text": [
      "                     specs         score\n",
      "6         \"List Price ($)\"  2.097800e+06\n",
      "1   \"Living Space (sq ft)\"  8.531305e+03\n",
      "0                    Index  6.214286e+01\n",
      "3                  \"Baths\"  8.232283e+00\n",
      "2                   \"Beds\"  4.688312e+00\n"
     ]
    }
   ],
   "source": [
    "dfcolumns = pd.DataFrame(X.columns)\n",
    "scores = pd.concat([dfcolumns,dfscores],axis=1)\n",
    "scores.columns = ['specs','score']\n",
    "print(scores.nlargest(5,'score')) "
   ]
  },
  {
   "cell_type": "code",
   "execution_count": null,
   "id": "8e25fd75",
   "metadata": {},
   "outputs": [],
   "source": []
  },
  {
   "cell_type": "code",
   "execution_count": null,
   "id": "af4293ae",
   "metadata": {},
   "outputs": [],
   "source": []
  }
 ],
 "metadata": {
  "kernelspec": {
   "display_name": "Python 3 (ipykernel)",
   "language": "python",
   "name": "python3"
  },
  "language_info": {
   "codemirror_mode": {
    "name": "ipython",
    "version": 3
   },
   "file_extension": ".py",
   "mimetype": "text/x-python",
   "name": "python",
   "nbconvert_exporter": "python",
   "pygments_lexer": "ipython3",
   "version": "3.9.7"
  }
 },
 "nbformat": 4,
 "nbformat_minor": 5
}
